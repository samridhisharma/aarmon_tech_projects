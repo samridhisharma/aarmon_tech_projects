{
 "cells": [
  {
   "cell_type": "markdown",
   "metadata": {},
   "source": [
    "# MNIST WITH KNN"
   ]
  },
  {
   "cell_type": "markdown",
   "metadata": {},
   "source": [
    "## KNN with Iris Dataset"
   ]
  },
  {
   "cell_type": "code",
   "execution_count": 1,
   "metadata": {},
   "outputs": [],
   "source": [
    "from sklearn.datasets import load_iris\n",
    "X, y = load_iris().data, load_iris().target"
   ]
  },
  {
   "cell_type": "code",
   "execution_count": 2,
   "metadata": {},
   "outputs": [
    {
     "data": {
      "text/plain": [
       "((150, 4), (150,))"
      ]
     },
     "execution_count": 2,
     "metadata": {},
     "output_type": "execute_result"
    }
   ],
   "source": [
    "X.shape, y.shape"
   ]
  },
  {
   "cell_type": "code",
   "execution_count": 3,
   "metadata": {},
   "outputs": [
    {
     "data": {
      "text/plain": [
       "array([0, 0, 0, 0, 0, 0, 0, 0, 0, 0, 0, 0, 0, 0, 0, 0, 0, 0, 0, 0, 0, 0,\n",
       "       0, 0, 0, 0, 0, 0, 0, 0, 0, 0, 0, 0, 0, 0, 0, 0, 0, 0, 0, 0, 0, 0,\n",
       "       0, 0, 0, 0, 0, 0, 1, 1, 1, 1, 1, 1, 1, 1, 1, 1, 1, 1, 1, 1, 1, 1,\n",
       "       1, 1, 1, 1, 1, 1, 1, 1, 1, 1, 1, 1, 1, 1, 1, 1, 1, 1, 1, 1, 1, 1,\n",
       "       1, 1, 1, 1, 1, 1, 1, 1, 1, 1, 1, 1, 2, 2, 2, 2, 2, 2, 2, 2, 2, 2,\n",
       "       2, 2, 2, 2, 2, 2, 2, 2, 2, 2, 2, 2, 2, 2, 2, 2, 2, 2, 2, 2, 2, 2,\n",
       "       2, 2, 2, 2, 2, 2, 2, 2, 2, 2, 2, 2, 2, 2, 2, 2, 2, 2])"
      ]
     },
     "execution_count": 3,
     "metadata": {},
     "output_type": "execute_result"
    }
   ],
   "source": [
    "y"
   ]
  },
  {
   "cell_type": "code",
   "execution_count": 4,
   "metadata": {},
   "outputs": [],
   "source": [
    "import matplotlib.pyplot as plt"
   ]
  },
  {
   "cell_type": "code",
   "execution_count": 5,
   "metadata": {},
   "outputs": [
    {
     "data": {
      "text/plain": [
       "array([5.1, 3.5, 1.4, 0.2])"
      ]
     },
     "execution_count": 5,
     "metadata": {},
     "output_type": "execute_result"
    }
   ],
   "source": [
    "X[0]"
   ]
  },
  {
   "cell_type": "code",
   "execution_count": 6,
   "metadata": {},
   "outputs": [],
   "source": [
    "setosa     = X[ y == 0 ]\n",
    "versicolor = X[ y == 1 ] \n",
    "verginica  = X[ y == 2 ]"
   ]
  },
  {
   "cell_type": "code",
   "execution_count": 7,
   "metadata": {},
   "outputs": [
    {
     "data": {
      "text/plain": [
       "array([ True,  True,  True,  True,  True,  True,  True,  True,  True,\n",
       "        True,  True,  True,  True,  True,  True,  True,  True,  True,\n",
       "        True,  True,  True,  True,  True,  True,  True,  True,  True,\n",
       "        True,  True,  True,  True,  True,  True,  True,  True,  True,\n",
       "        True,  True,  True,  True,  True,  True,  True,  True,  True,\n",
       "        True,  True,  True,  True,  True, False, False, False, False,\n",
       "       False, False, False, False, False, False, False, False, False,\n",
       "       False, False, False, False, False, False, False, False, False,\n",
       "       False, False, False, False, False, False, False, False, False,\n",
       "       False, False, False, False, False, False, False, False, False,\n",
       "       False, False, False, False, False, False, False, False, False,\n",
       "       False, False, False, False, False, False, False, False, False,\n",
       "       False, False, False, False, False, False, False, False, False,\n",
       "       False, False, False, False, False, False, False, False, False,\n",
       "       False, False, False, False, False, False, False, False, False,\n",
       "       False, False, False, False, False, False, False, False, False,\n",
       "       False, False, False, False, False, False])"
      ]
     },
     "execution_count": 7,
     "metadata": {},
     "output_type": "execute_result"
    }
   ],
   "source": [
    "y==0"
   ]
  },
  {
   "cell_type": "code",
   "execution_count": 8,
   "metadata": {},
   "outputs": [
    {
     "data": {
      "text/plain": [
       "<matplotlib.collections.PathCollection at 0x1da3bcd7fc8>"
      ]
     },
     "execution_count": 8,
     "metadata": {},
     "output_type": "execute_result"
    },
    {
     "data": {
      "image/png": "[encoded data removed]",
      "text/plain": [
       "<Figure size 432x288 with 1 Axes>"
      ]
     },
     "metadata": {
      "needs_background": "light"
     },
     "output_type": "display_data"
    }
   ],
   "source": [
    "setosa     = X[ y == 0 ]\n",
    "versicolor = X[ y == 1 ] \n",
    "verginica  = X[ y == 2 ]\n",
    "\n",
    "plt.scatter(setosa[:,0], setosa[:,2])\n",
    "plt.scatter(versicolor[:,0], versicolor[:,2])\n",
    "plt.scatter(verginica[:,0], verginica[:,2])"
   ]
  },
  {
   "cell_type": "code",
   "execution_count": 9,
   "metadata": {},
   "outputs": [
    {
     "data": {
      "text/plain": [
       "<matplotlib.collections.PathCollection at 0x1da3bd8eac8>"
      ]
     },
     "execution_count": 9,
     "metadata": {},
     "output_type": "execute_result"
    },
    {
     "data": {
      "image/png": "[encoded data removed]",
      "text/plain": [
       "<Figure size 432x288 with 1 Axes>"
      ]
     },
     "metadata": {
      "needs_background": "light"
     },
     "output_type": "display_data"
    }
   ],
   "source": [
    "plt.scatter(setosa[:,1], setosa[:,3])\n",
    "plt.scatter(versicolor[:,1], versicolor[:,3])\n",
    "plt.scatter(verginica[:,1], verginica[:,3])"
   ]
  },
  {
   "cell_type": "code",
   "execution_count": 10,
   "metadata": {},
   "outputs": [
    {
     "data": {
      "text/plain": [
       "<matplotlib.collections.PathCollection at 0x1da3cdd19c8>"
      ]
     },
     "execution_count": 10,
     "metadata": {},
     "output_type": "execute_result"
    },
    {
     "data": {
      "image/png": "[encoded data removed]",
      "text/plain": [
       "<Figure size 432x288 with 1 Axes>"
      ]
     },
     "metadata": {
      "needs_background": "light"
     },
     "output_type": "display_data"
    }
   ],
   "source": [
    "plt.scatter(setosa[:,0], setosa[:,3])\n",
    "plt.scatter(versicolor[:,0], versicolor[:,3])\n",
    "plt.scatter(verginica[:,0], verginica[:,3])"
   ]
  },
  {
   "cell_type": "markdown",
   "metadata": {},
   "source": [
    "## Train-Test split of data"
   ]
  },
  {
   "cell_type": "code",
   "execution_count": 11,
   "metadata": {},
   "outputs": [],
   "source": [
    "from sklearn.model_selection import train_test_split\n",
    "X_train, X_test, y_train, y_test = train_test_split(X, y, test_size=.3)"
   ]
  },
  {
   "cell_type": "code",
   "execution_count": 12,
   "metadata": {},
   "outputs": [
    {
     "name": "stdout",
     "output_type": "stream",
     "text": [
      "(105, 4)\n",
      "(45, 4)\n",
      "(105,)\n",
      "(45,)\n"
     ]
    }
   ],
   "source": [
    "for i in(X_train, X_test, y_train, y_test):\n",
    "    print(i.shape)"
   ]
  },
  {
   "cell_type": "markdown",
   "metadata": {},
   "source": [
    "## Importing KNN"
   ]
  },
  {
   "cell_type": "code",
   "execution_count": 13,
   "metadata": {},
   "outputs": [],
   "source": [
    "from sklearn.neighbors import KNeighborsClassifier\n",
    "knn_model = KNeighborsClassifier(n_neighbors = 5)"
   ]
  },
  {
   "cell_type": "markdown",
   "metadata": {},
   "source": [
    "## Fitting or training our model with training dataset"
   ]
  },
  {
   "cell_type": "code",
   "execution_count": 14,
   "metadata": {},
   "outputs": [
    {
     "data": {
      "text/plain": [
       "KNeighborsClassifier(algorithm='auto', leaf_size=30, metric='minkowski',\n",
       "                     metric_params=None, n_jobs=None, n_neighbors=5, p=2,\n",
       "                     weights='uniform')"
      ]
     },
     "execution_count": 14,
     "metadata": {},
     "output_type": "execute_result"
    }
   ],
   "source": [
    "knn_model.fit(X_train, y_train)"
   ]
  },
  {
   "cell_type": "code",
   "execution_count": 15,
   "metadata": {},
   "outputs": [
    {
     "data": {
      "text/plain": [
       "array([2, 0, 2, 1, 0, 0, 0, 2, 1, 2])"
      ]
     },
     "execution_count": 15,
     "metadata": {},
     "output_type": "execute_result"
    }
   ],
   "source": [
    "knn_model.predict(X_test[:10])"
   ]
  },
  {
   "cell_type": "code",
   "execution_count": 16,
   "metadata": {},
   "outputs": [
    {
     "data": {
      "text/plain": [
       "array([1, 0, 2, 1, 0, 0, 0, 2, 1, 2])"
      ]
     },
     "execution_count": 16,
     "metadata": {},
     "output_type": "execute_result"
    }
   ],
   "source": [
    "y_test[:10]"
   ]
  },
  {
   "cell_type": "code",
   "execution_count": 17,
   "metadata": {},
   "outputs": [
    {
     "data": {
      "text/plain": [
       "array([2, 2, 2, 0, 2, 2, 0, 2, 1, 0, 1, 1, 1, 0, 1, 2, 2, 2, 1, 2])"
      ]
     },
     "execution_count": 17,
     "metadata": {},
     "output_type": "execute_result"
    }
   ],
   "source": [
    "knn_model.predict(X_test[10:30])"
   ]
  },
  {
   "cell_type": "code",
   "execution_count": 18,
   "metadata": {},
   "outputs": [
    {
     "data": {
      "text/plain": [
       "array([2, 2, 2, 0, 2, 2, 0, 2, 1, 0, 1, 1, 1, 0, 1, 2, 2, 2, 2, 2])"
      ]
     },
     "execution_count": 18,
     "metadata": {},
     "output_type": "execute_result"
    }
   ],
   "source": [
    "y_test[10:30]"
   ]
  },
  {
   "cell_type": "code",
   "execution_count": 19,
   "metadata": {},
   "outputs": [
    {
     "name": "stdout",
     "output_type": "stream",
     "text": [
      "percentage error is:  4.444444444444445\n"
     ]
    }
   ],
   "source": [
    "predicted = knn_model.predict(X_test)\n",
    "actual    = y_test\n",
    "\n",
    "count = 0\n",
    "for i, j in zip(predicted, actual):\n",
    "    \n",
    "    if i!= j:\n",
    "        count = count+1\n",
    "        \n",
    "print(\"percentage error is: \",(count/len(actual))*100)"
   ]
  },
  {
   "cell_type": "code",
   "execution_count": 20,
   "metadata": {},
   "outputs": [
    {
     "data": {
      "text/plain": [
       "0.9555555555555556"
      ]
     },
     "execution_count": 20,
     "metadata": {},
     "output_type": "execute_result"
    }
   ],
   "source": [
    "knn_model.score(X_test, y_test)"
   ]
  },
  {
   "cell_type": "code",
   "execution_count": 21,
   "metadata": {},
   "outputs": [
    {
     "data": {
      "text/plain": [
       "0.9809523809523809"
      ]
     },
     "execution_count": 21,
     "metadata": {},
     "output_type": "execute_result"
    }
   ],
   "source": [
    "knn_model.score(X_train, y_train)"
   ]
  },
  {
   "cell_type": "markdown",
   "metadata": {},
   "source": [
    "# Logistic vs KNN"
   ]
  },
  {
   "cell_type": "code",
   "execution_count": 22,
   "metadata": {},
   "outputs": [],
   "source": [
    "from sklearn.datasets import load_digits"
   ]
  },
  {
   "cell_type": "code",
   "execution_count": 23,
   "metadata": {},
   "outputs": [],
   "source": [
    "x = load_digits().data\n",
    "y = load_digits().target"
   ]
  },
  {
   "cell_type": "code",
   "execution_count": 24,
   "metadata": {},
   "outputs": [
    {
     "data": {
      "text/plain": [
       "((1797, 64), (1797,))"
      ]
     },
     "execution_count": 24,
     "metadata": {},
     "output_type": "execute_result"
    }
   ],
   "source": [
    "x.shape, y.shape"
   ]
  },
  {
   "cell_type": "code",
   "execution_count": 25,
   "metadata": {},
   "outputs": [],
   "source": [
    "from sklearn.metrics import confusion_matrix"
   ]
  },
  {
   "cell_type": "code",
   "execution_count": 26,
   "metadata": {},
   "outputs": [],
   "source": [
    "import numpy as np\n",
    "import matplotlib.pyplot as plt"
   ]
  },
  {
   "cell_type": "code",
   "execution_count": 27,
   "metadata": {},
   "outputs": [],
   "source": [
    "x = np.random.normal(size = 300)\n",
    "\n",
    "x_new = x.reshape(300, -1)\n",
    "new_data = np.concatenate((x_new, x_new**2), axis = 1)\n",
    "\n",
    "y = -x**2 + np.random.normal(0, .3, size = 300)"
   ]
  },
  {
   "cell_type": "code",
   "execution_count": 28,
   "metadata": {},
   "outputs": [
    {
     "data": {
      "text/plain": [
       "<matplotlib.collections.PathCollection at 0x1da3d458208>"
      ]
     },
     "execution_count": 28,
     "metadata": {},
     "output_type": "execute_result"
    },
    {
     "data": {
      "image/png": "[encoded data removed]",
      "text/plain": [
       "<Figure size 432x288 with 1 Axes>"
      ]
     },
     "metadata": {
      "needs_background": "light"
     },
     "output_type": "display_data"
    }
   ],
   "source": [
    "plt.scatter(x.reshape(300), y)"
   ]
  },
  {
   "cell_type": "code",
   "execution_count": 29,
   "metadata": {},
   "outputs": [],
   "source": [
    "from sklearn.linear_model import LinearRegression\n",
    "model = LinearRegression()"
   ]
  },
  {
   "cell_type": "code",
   "execution_count": 30,
   "metadata": {},
   "outputs": [
    {
     "data": {
      "text/plain": [
       "LinearRegression(copy_X=True, fit_intercept=True, n_jobs=None, normalize=False)"
      ]
     },
     "execution_count": 30,
     "metadata": {},
     "output_type": "execute_result"
    }
   ],
   "source": [
    "model.fit(new_data, y)"
   ]
  },
  {
   "cell_type": "code",
   "execution_count": 31,
   "metadata": {},
   "outputs": [
    {
     "data": {
      "text/plain": [
       "<matplotlib.collections.PathCollection at 0x1da3d1b0408>"
      ]
     },
     "execution_count": 31,
     "metadata": {},
     "output_type": "execute_result"
    },
    {
     "data": {
      "image/png": "[encoded data removed]",
      "text/plain": [
       "<Figure size 432x288 with 1 Axes>"
      ]
     },
     "metadata": {
      "needs_background": "light"
     },
     "output_type": "display_data"
    }
   ],
   "source": [
    "predicted_values = model.predict(new_data)\n",
    "\n",
    "plt.scatter(x, y)\n",
    "plt.scatter(x, predicted_values)"
   ]
  },
  {
   "cell_type": "code",
   "execution_count": 32,
   "metadata": {},
   "outputs": [
    {
     "data": {
      "text/plain": [
       "<matplotlib.collections.PathCollection at 0x1da3d217b08>"
      ]
     },
     "execution_count": 32,
     "metadata": {},
     "output_type": "execute_result"
    },
    {
     "data": {
      "image/png": "[encoded data removed]",
      "text/plain": [
       "<Figure size 432x288 with 1 Axes>"
      ]
     },
     "metadata": {
      "needs_background": "light"
     },
     "output_type": "display_data"
    }
   ],
   "source": [
    "plt.scatter(x**2, y)"
   ]
  },
  {
   "cell_type": "code",
   "execution_count": 33,
   "metadata": {},
   "outputs": [
    {
     "data": {
      "text/plain": [
       "array([-0.00376788, -0.98903879])"
      ]
     },
     "execution_count": 33,
     "metadata": {},
     "output_type": "execute_result"
    }
   ],
   "source": [
    "model.coef_"
   ]
  },
  {
   "cell_type": "code",
   "execution_count": 34,
   "metadata": {},
   "outputs": [
    {
     "data": {
      "text/plain": [
       "array([[ 2.38702318e-01,  5.69787964e-02],\n",
       "       [ 3.77490425e-01,  1.42499021e-01],\n",
       "       [ 2.96891426e-02,  8.81445186e-04],\n",
       "       [-2.52824060e-01,  6.39200053e-02],\n",
       "       [ 1.27806765e+00,  1.63345693e+00],\n",
       "       [ 9.45556449e-01,  8.94076999e-01],\n",
       "       [-1.00314989e+00,  1.00630971e+00],\n",
       "       [ 6.52378150e-01,  4.25597251e-01],\n",
       "       [ 6.85724118e-01,  4.70217566e-01],\n",
       "       [-2.70658640e-01,  7.32560994e-02],\n",
       "       [ 1.47900399e+00,  2.18745281e+00],\n",
       "       [ 6.06620486e-01,  3.67988414e-01],\n",
       "       [-9.46087010e-01,  8.95080631e-01],\n",
       "       [ 2.18556538e-01,  4.77669605e-02],\n",
       "       [ 3.25715638e-01,  1.06090677e-01],\n",
       "       [ 6.25308616e-01,  3.91010865e-01],\n",
       "       [ 4.29465648e-01,  1.84440743e-01],\n",
       "       [-4.87759439e-01,  2.37909271e-01],\n",
       "       [-9.67753060e-01,  9.36545985e-01],\n",
       "       [-1.38601848e+00,  1.92104721e+00],\n",
       "       [-2.03079003e-01,  4.12410814e-02],\n",
       "       [-6.56901523e-01,  4.31519611e-01],\n",
       "       [ 5.21452090e-01,  2.71912282e-01],\n",
       "       [ 1.38560203e+00,  1.91989297e+00],\n",
       "       [-7.39289253e-01,  5.46548600e-01],\n",
       "       [-2.73717072e+00,  7.49210354e+00],\n",
       "       [-1.98099035e-01,  3.92432278e-02],\n",
       "       [-6.34133912e-01,  4.02125818e-01],\n",
       "       [ 9.07382610e-01,  8.23343202e-01],\n",
       "       [-7.41478018e-01,  5.49789652e-01],\n",
       "       [-5.76549078e-01,  3.32408839e-01],\n",
       "       [ 1.59015887e+00,  2.52860523e+00],\n",
       "       [-1.38425729e+00,  1.91616826e+00],\n",
       "       [ 9.99212531e-01,  9.98425683e-01],\n",
       "       [ 3.06197809e-01,  9.37570982e-02],\n",
       "       [ 6.59548383e-01,  4.35004069e-01],\n",
       "       [ 1.44392357e+00,  2.08491526e+00],\n",
       "       [-1.25317113e+00,  1.57043787e+00],\n",
       "       [ 1.03822652e+00,  1.07791430e+00],\n",
       "       [-7.23780188e-01,  5.23857760e-01],\n",
       "       [-2.37140615e+00,  5.62356715e+00],\n",
       "       [ 7.20889078e-01,  5.19681063e-01],\n",
       "       [ 2.69170604e-01,  7.24528141e-02],\n",
       "       [-1.27009868e-01,  1.61315065e-02],\n",
       "       [-3.39610317e-01,  1.15335167e-01],\n",
       "       [ 1.10613254e+00,  1.22352920e+00],\n",
       "       [ 3.29855454e-01,  1.08804620e-01],\n",
       "       [-4.34616826e-01,  1.88891785e-01],\n",
       "       [ 2.21165827e-01,  4.89143229e-02],\n",
       "       [ 3.02654695e-01,  9.15998645e-02],\n",
       "       [-1.30424915e-01,  1.70106584e-02],\n",
       "       [-5.80761264e-01,  3.37283645e-01],\n",
       "       [ 4.95403471e-01,  2.45424599e-01],\n",
       "       [-8.38291312e-02,  7.02732324e-03],\n",
       "       [-1.03876731e+00,  1.07903753e+00],\n",
       "       [-1.27021624e+00,  1.61344931e+00],\n",
       "       [-1.12927364e+00,  1.27525895e+00],\n",
       "       [-1.95490650e+00,  3.82165943e+00],\n",
       "       [-7.27938319e-02,  5.29894196e-03],\n",
       "       [ 1.52474471e-01,  2.32484642e-02],\n",
       "       [-1.41415097e+00,  1.99982298e+00],\n",
       "       [-6.59158406e-01,  4.34489804e-01],\n",
       "       [ 8.45776092e-02,  7.15337197e-03],\n",
       "       [-2.06896731e-01,  4.28062572e-02],\n",
       "       [ 2.03203315e-01,  4.12915873e-02],\n",
       "       [-1.19861896e+00,  1.43668742e+00],\n",
       "       [-1.01900955e+00,  1.03838047e+00],\n",
       "       [-1.24215542e+00,  1.54295010e+00],\n",
       "       [ 3.25716409e-01,  1.06091179e-01],\n",
       "       [-1.14656349e+00,  1.31460783e+00],\n",
       "       [ 1.04207890e+00,  1.08592842e+00],\n",
       "       [ 4.92407764e-01,  2.42465406e-01],\n",
       "       [ 1.74524178e+00,  3.04586888e+00],\n",
       "       [ 1.51568783e+00,  2.29730959e+00],\n",
       "       [-1.00154690e+00,  1.00309620e+00],\n",
       "       [ 5.58163305e-01,  3.11546275e-01],\n",
       "       [-3.16256811e-01,  1.00018370e-01],\n",
       "       [-1.50717435e+00,  2.27157451e+00],\n",
       "       [-2.30627368e-01,  5.31889827e-02],\n",
       "       [ 9.13683332e-01,  8.34817232e-01],\n",
       "       [-1.16953650e+00,  1.36781563e+00],\n",
       "       [ 1.11002752e+00,  1.23216109e+00],\n",
       "       [-2.32368637e+00,  5.39951837e+00],\n",
       "       [ 5.46178848e-01,  2.98311335e-01],\n",
       "       [-6.89146843e-01,  4.74923371e-01],\n",
       "       [-1.52861884e+00,  2.33667556e+00],\n",
       "       [ 3.03532773e-02,  9.21321440e-04],\n",
       "       [-7.72102872e-01,  5.96142845e-01],\n",
       "       [-4.51236190e-01,  2.03614099e-01],\n",
       "       [ 9.15513071e-01,  8.38164184e-01],\n",
       "       [-1.66533194e-02,  2.77333046e-04],\n",
       "       [-7.35652569e-01,  5.41184702e-01],\n",
       "       [ 1.84788035e-01,  3.41466177e-02],\n",
       "       [ 7.74577995e-01,  5.99971070e-01],\n",
       "       [-3.11135182e-01,  9.68051015e-02],\n",
       "       [-5.81857338e-01,  3.38557962e-01],\n",
       "       [ 2.10985773e+00,  4.45149963e+00],\n",
       "       [-5.00194080e-01,  2.50194118e-01],\n",
       "       [ 1.94749607e-01,  3.79274095e-02],\n",
       "       [ 4.64636722e-01,  2.15887284e-01],\n",
       "       [ 1.39210033e+00,  1.93794332e+00],\n",
       "       [-6.32843915e-02,  4.00491420e-03],\n",
       "       [ 1.77387256e+00,  3.14662385e+00],\n",
       "       [ 3.74462143e-01,  1.40221897e-01],\n",
       "       [ 2.20347378e-01,  4.85529671e-02],\n",
       "       [-1.63039535e+00,  2.65818901e+00],\n",
       "       [ 1.56236094e+00,  2.44097171e+00],\n",
       "       [-6.94757523e-01,  4.82688016e-01],\n",
       "       [ 9.45296889e-01,  8.93586208e-01],\n",
       "       [-1.10284777e+00,  1.21627320e+00],\n",
       "       [ 3.09830691e-03,  9.59950573e-06],\n",
       "       [ 3.21445350e-01,  1.03327113e-01],\n",
       "       [ 9.68764573e-01,  9.38504798e-01],\n",
       "       [ 3.10624651e-01,  9.64876737e-02],\n",
       "       [-9.03632971e-02,  8.16552547e-03],\n",
       "       [ 3.64329293e-01,  1.32735834e-01],\n",
       "       [ 4.50751989e-02,  2.03177355e-03],\n",
       "       [-2.70988478e-01,  7.34347551e-02],\n",
       "       [ 1.64163505e+00,  2.69496564e+00],\n",
       "       [-8.96476262e-01,  8.03669689e-01],\n",
       "       [-2.45157204e-01,  6.01020548e-02],\n",
       "       [ 1.09381357e+00,  1.19642813e+00],\n",
       "       [ 5.68545029e-01,  3.23243450e-01],\n",
       "       [ 7.38138689e-01,  5.44848724e-01],\n",
       "       [-5.68606745e-02,  3.23313630e-03],\n",
       "       [-7.39203631e-01,  5.46422008e-01],\n",
       "       [ 9.40041447e-01,  8.83677922e-01],\n",
       "       [ 1.10366645e+00,  1.21807964e+00],\n",
       "       [ 9.39039923e-01,  8.81795978e-01],\n",
       "       [-1.32882213e+00,  1.76576826e+00],\n",
       "       [ 4.52327111e-01,  2.04599815e-01],\n",
       "       [ 9.13330097e-01,  8.34171865e-01],\n",
       "       [-3.44861156e-01,  1.18929217e-01],\n",
       "       [ 3.68596606e-01,  1.35863458e-01],\n",
       "       [-1.39901993e+00,  1.95725677e+00],\n",
       "       [-1.25726013e+00,  1.58070304e+00],\n",
       "       [-1.36363096e+00,  1.85948938e+00],\n",
       "       [ 1.64660877e-01,  2.71132043e-02],\n",
       "       [-1.25833523e-01,  1.58340755e-02],\n",
       "       [-1.12271601e+00,  1.26049124e+00],\n",
       "       [ 1.23521805e+00,  1.52576362e+00],\n",
       "       [ 4.82768154e-01,  2.33065091e-01],\n",
       "       [-1.05845344e+00,  1.12032369e+00],\n",
       "       [ 1.44928544e+00,  2.10042828e+00],\n",
       "       [-6.80819095e-01,  4.63514640e-01],\n",
       "       [ 7.16512662e-01,  5.13390395e-01],\n",
       "       [ 2.16135081e+00,  4.67143731e+00],\n",
       "       [ 1.81691012e+00,  3.30116238e+00],\n",
       "       [ 1.64933432e+00,  2.72030371e+00],\n",
       "       [-4.88627686e-01,  2.38757016e-01],\n",
       "       [ 4.71591272e-01,  2.22398328e-01],\n",
       "       [-7.99470282e-01,  6.39152732e-01],\n",
       "       [-2.77071293e-01,  7.67685012e-02],\n",
       "       [ 1.81131734e+00,  3.28087052e+00],\n",
       "       [-1.76539601e+00,  3.11662307e+00],\n",
       "       [ 1.84559408e-02,  3.40621751e-04],\n",
       "       [-2.37324860e-01,  5.63230893e-02],\n",
       "       [ 4.50544529e-01,  2.02990372e-01],\n",
       "       [ 1.60340602e+00,  2.57091088e+00],\n",
       "       [-6.00471569e-01,  3.60566105e-01],\n",
       "       [-1.31601371e+00,  1.73189208e+00],\n",
       "       [-2.12572302e-01,  4.51869837e-02],\n",
       "       [ 5.41788226e-01,  2.93534482e-01],\n",
       "       [ 1.18963821e+00,  1.41523908e+00],\n",
       "       [ 3.02826808e-01,  9.17040757e-02],\n",
       "       [-3.65710071e-01,  1.33743856e-01],\n",
       "       [-4.17612525e-01,  1.74400221e-01],\n",
       "       [-1.10085108e+00,  1.21187311e+00],\n",
       "       [ 3.00226744e-01,  9.01360977e-02],\n",
       "       [ 1.14914727e+00,  1.32053944e+00],\n",
       "       [-5.72863516e-01,  3.28172608e-01],\n",
       "       [ 1.16017747e+00,  1.34601176e+00],\n",
       "       [-6.86395986e-01,  4.71139450e-01],\n",
       "       [-5.82123259e-01,  3.38867489e-01],\n",
       "       [ 8.25482850e-01,  6.81421936e-01],\n",
       "       [-3.28096564e-02,  1.07647355e-03],\n",
       "       [-1.90193344e+00,  3.61735082e+00],\n",
       "       [-8.71831182e-01,  7.60089610e-01],\n",
       "       [-1.99948327e-01,  3.99793334e-02],\n",
       "       [ 7.75063904e-01,  6.00724056e-01],\n",
       "       [-9.53460250e-01,  9.09086449e-01],\n",
       "       [-1.15545107e+00,  1.33506718e+00],\n",
       "       [-1.75200729e+00,  3.06952956e+00],\n",
       "       [-3.18158816e-01,  1.01225032e-01],\n",
       "       [-3.04488561e-02,  9.27132836e-04],\n",
       "       [ 4.51068711e-02,  2.03462982e-03],\n",
       "       [-7.12860021e-01,  5.08169409e-01],\n",
       "       [-1.01465309e+00,  1.02952089e+00],\n",
       "       [-4.35822438e-02,  1.89941198e-03],\n",
       "       [ 5.02375392e-01,  2.52381035e-01],\n",
       "       [ 2.08285502e-01,  4.33828505e-02],\n",
       "       [ 2.80013489e-01,  7.84075542e-02],\n",
       "       [ 1.42476780e-01,  2.02996327e-02],\n",
       "       [-2.32169892e-02,  5.39028588e-04],\n",
       "       [ 6.23995565e-01,  3.89370465e-01],\n",
       "       [-1.31519522e+00,  1.72973847e+00],\n",
       "       [ 5.12661982e-01,  2.62822308e-01],\n",
       "       [-2.99869917e-01,  8.99219673e-02],\n",
       "       [-1.99633754e+00,  3.98536358e+00],\n",
       "       [ 3.58683121e-01,  1.28653581e-01],\n",
       "       [ 1.02284739e+00,  1.04621678e+00],\n",
       "       [-1.08268975e+00,  1.17221710e+00],\n",
       "       [ 1.79927646e+00,  3.23739578e+00],\n",
       "       [-1.87827665e+00,  3.52792319e+00],\n",
       "       [ 6.00892154e-01,  3.61071381e-01],\n",
       "       [ 6.17423917e-02,  3.81212293e-03],\n",
       "       [ 1.02746387e+00,  1.05568201e+00],\n",
       "       [-4.04472828e-01,  1.63598269e-01],\n",
       "       [-8.57367603e-01,  7.35079206e-01],\n",
       "       [ 1.32771234e+00,  1.76282006e+00],\n",
       "       [-1.50893243e-01,  2.27687708e-02],\n",
       "       [ 8.78867206e-01,  7.72407566e-01],\n",
       "       [ 2.10492718e-01,  4.43071843e-02],\n",
       "       [-5.87918948e-01,  3.45648690e-01],\n",
       "       [ 2.87391749e-01,  8.25940176e-02],\n",
       "       [-1.27454659e+00,  1.62446901e+00],\n",
       "       [-7.07324444e-02,  5.00307869e-03],\n",
       "       [-1.00002491e-01,  1.00004981e-02],\n",
       "       [-8.41915666e-01,  7.08821989e-01],\n",
       "       [ 1.30610404e+00,  1.70590776e+00],\n",
       "       [ 2.08699565e-01,  4.35555082e-02],\n",
       "       [ 1.00356243e+00,  1.00713755e+00],\n",
       "       [ 6.17857534e-01,  3.81747932e-01],\n",
       "       [-1.87109237e+00,  3.50098666e+00],\n",
       "       [ 7.83077166e-01,  6.13209848e-01],\n",
       "       [-6.31430660e-01,  3.98704679e-01],\n",
       "       [ 9.82024894e-02,  9.64372892e-03],\n",
       "       [ 1.19826606e+00,  1.43584155e+00],\n",
       "       [ 1.69927289e+00,  2.88752837e+00],\n",
       "       [-1.75775449e+00,  3.08970084e+00],\n",
       "       [ 3.06155154e-01,  9.37309785e-02],\n",
       "       [ 1.00721003e+00,  1.01447204e+00],\n",
       "       [ 1.74111923e-01,  3.03149617e-02],\n",
       "       [ 7.08162674e-03,  5.01494373e-05],\n",
       "       [ 5.37650860e-01,  2.89068448e-01],\n",
       "       [ 1.90518503e-01,  3.62973001e-02],\n",
       "       [ 8.16646963e-01,  6.66912261e-01],\n",
       "       [ 8.50476127e-01,  7.23309643e-01],\n",
       "       [-9.66473440e-02,  9.34070909e-03],\n",
       "       [ 1.56603132e-02,  2.45245408e-04],\n",
       "       [ 1.16319877e+00,  1.35303137e+00],\n",
       "       [ 1.54001740e+00,  2.37165359e+00],\n",
       "       [ 2.83782253e-01,  8.05323670e-02],\n",
       "       [-1.54838688e-01,  2.39750193e-02],\n",
       "       [-1.48914422e+00,  2.21755052e+00],\n",
       "       [ 6.26580383e-01,  3.92602976e-01],\n",
       "       [-1.55137564e+00,  2.40676639e+00],\n",
       "       [-4.29645992e-01,  1.84595679e-01],\n",
       "       [ 1.94456176e+00,  3.78132045e+00],\n",
       "       [ 5.27214787e-01,  2.77955431e-01],\n",
       "       [ 4.27902515e-01,  1.83100562e-01],\n",
       "       [-9.32672236e-01,  8.69877499e-01],\n",
       "       [-3.03768424e-01,  9.22752554e-02],\n",
       "       [ 2.49656105e-01,  6.23281710e-02],\n",
       "       [ 5.67854841e-01,  3.22459121e-01],\n",
       "       [-2.15640007e-01,  4.65006128e-02],\n",
       "       [-4.72277793e-01,  2.23046314e-01],\n",
       "       [-2.73469174e-01,  7.47853892e-02],\n",
       "       [ 8.41120039e-01,  7.07482920e-01],\n",
       "       [-5.74349334e-01,  3.29877158e-01],\n",
       "       [-3.68020645e-02,  1.35439195e-03],\n",
       "       [ 4.85498162e-01,  2.35708466e-01],\n",
       "       [-1.91596505e+00,  3.67092208e+00],\n",
       "       [-8.81743395e-02,  7.77471414e-03],\n",
       "       [ 8.63207191e-01,  7.45126654e-01],\n",
       "       [ 5.00774755e-01,  2.50775356e-01],\n",
       "       [-5.02247006e-01,  2.52252055e-01],\n",
       "       [ 1.51206952e+00,  2.28635422e+00],\n",
       "       [-5.03424069e-01,  2.53435793e-01],\n",
       "       [ 2.27383750e-02,  5.17033699e-04],\n",
       "       [-1.47668138e+00,  2.18058790e+00],\n",
       "       [ 1.33235050e+00,  1.77515785e+00],\n",
       "       [-4.13638172e-01,  1.71096537e-01],\n",
       "       [ 1.48492075e+00,  2.20498964e+00],\n",
       "       [ 1.09639447e+00,  1.20208084e+00],\n",
       "       [-9.46167708e-01,  8.95233331e-01],\n",
       "       [-3.49098289e-01,  1.21869616e-01],\n",
       "       [ 9.44189102e-02,  8.91493061e-03],\n",
       "       [ 4.80025732e-01,  2.30424703e-01],\n",
       "       [-1.23366382e-01,  1.52192641e-02],\n",
       "       [-6.21285376e-01,  3.85995518e-01],\n",
       "       [ 1.66087248e+00,  2.75849738e+00],\n",
       "       [-6.00140465e-02,  3.60168578e-03],\n",
       "       [ 3.19588656e-01,  1.02136909e-01],\n",
       "       [ 1.75351957e-01,  3.07483089e-02],\n",
       "       [-1.36173512e-02,  1.85432254e-04],\n",
       "       [-4.85981607e-01,  2.36178122e-01],\n",
       "       [-6.95111329e-02,  4.83179759e-03],\n",
       "       [-1.38215839e+00,  1.91036181e+00],\n",
       "       [-1.07528014e+00,  1.15622738e+00],\n",
       "       [ 1.43072254e+00,  2.04696697e+00],\n",
       "       [ 9.50621197e-01,  9.03680661e-01],\n",
       "       [ 1.49454010e+00,  2.23365011e+00],\n",
       "       [ 1.68135936e+00,  2.82696930e+00],\n",
       "       [ 7.68811267e-03,  5.91070764e-05],\n",
       "       [-7.99629884e-01,  6.39407951e-01],\n",
       "       [-6.07103851e-01,  3.68575086e-01],\n",
       "       [-6.81414267e-01,  4.64325404e-01],\n",
       "       [-5.62243393e-01,  3.16117633e-01],\n",
       "       [ 7.95737312e-01,  6.33197870e-01]])"
      ]
     },
     "execution_count": 34,
     "metadata": {},
     "output_type": "execute_result"
    }
   ],
   "source": [
    "new_data"
   ]
  },
  {
   "cell_type": "code",
   "execution_count": null,
   "metadata": {},
   "outputs": [],
   "source": []
  }
 ],
 "metadata": {
  "kernelspec": {
   "display_name": "Python 3",
   "language": "python",
   "name": "python3"
  },
  "language_info": {
   "codemirror_mode": {
    "name": "ipython",
    "version": 3
   },
   "file_extension": ".py",
   "mimetype": "text/x-python",
   "name": "python",
   "nbconvert_exporter": "python",
   "pygments_lexer": "ipython3",
   "version": "3.7.4"
  }
 },
 "nbformat": 4,
 "nbformat_minor": 2
}
